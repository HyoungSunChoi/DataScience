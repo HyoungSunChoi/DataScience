{
  "cells": [
    {
      "cell_type": "markdown",
      "source": [
        "# Series"
      ],
      "metadata": {
        "id": "RlOdYUGbQaWu"
      }
    },
    {
      "cell_type": "markdown",
      "metadata": {
        "id": "YsN4xX1AljBM"
      },
      "source": [
        "## 학습목표\n",
        " 1. pandas Series 데이터 생성하기"
      ]
    },
    {
      "cell_type": "code",
      "execution_count": null,
      "metadata": {
        "id": "IHnIDl1-ljBQ"
      },
      "outputs": [],
      "source": [
        "import numpy as np\n",
        "import pandas as pd"
      ]
    },
    {
      "cell_type": "markdown",
      "metadata": {
        "id": "wUj4AqvFljBS"
      },
      "source": [
        "#### Series\n",
        "  - pandas의 기본 객체 중 하나\n",
        "  - numpy의 ndarray를 기반으로 인덱싱을 기능을 추가하여 1차원 배열을 나타냄\n",
        "  - index를 지정하지 않을 시, 기본적으로 ndarray와 같이 0-based 인덱스 생성, 지정할 경우 명시적으로 지정된 index를 사용\n",
        "  - 같은 타입의 0개 이상의 데이터를 가질 수 있음"
      ]
    },
    {
      "cell_type": "markdown",
      "metadata": {
        "id": "L0gAs7zwljBT"
      },
      "source": [
        "* data로만 생성하기\n",
        " - index는 기본적으로 0부터 자동적으로 생성"
      ]
    },
    {
      "cell_type": "code",
      "execution_count": null,
      "metadata": {
        "id": "baZTeIDcljBU"
      },
      "outputs": [],
      "source": [
        ""
      ]
    },
    {
      "cell_type": "markdown",
      "metadata": {
        "id": "d2IrMHZfljBV"
      },
      "source": [
        "* data, index함께 명시하기"
      ]
    },
    {
      "cell_type": "code",
      "execution_count": null,
      "metadata": {
        "id": "zp9qH85kljBV"
      },
      "outputs": [],
      "source": [
        ""
      ]
    },
    {
      "cell_type": "markdown",
      "metadata": {
        "id": "4wkrHM4LljBW"
      },
      "source": [
        "* data, index, data type 함께 명시하기"
      ]
    },
    {
      "cell_type": "code",
      "execution_count": null,
      "metadata": {
        "id": "U__9BBi-ljBW"
      },
      "outputs": [],
      "source": [
        ""
      ]
    },
    {
      "cell_type": "markdown",
      "metadata": {
        "id": "cQOjoFs5ljBW"
      },
      "source": [
        "#### 인덱스 활용하기"
      ]
    },
    {
      "cell_type": "code",
      "execution_count": null,
      "metadata": {
        "id": "I3wrotN1ljBX"
      },
      "outputs": [],
      "source": [
        ""
      ]
    },
    {
      "cell_type": "markdown",
      "metadata": {
        "id": "1J58cBaUljBX"
      },
      "source": [
        "1. 인덱스를 통한 데이터 접근"
      ]
    },
    {
      "cell_type": "code",
      "execution_count": null,
      "metadata": {
        "id": "z-M4LYCyljBX"
      },
      "outputs": [],
      "source": [
        ""
      ]
    },
    {
      "cell_type": "markdown",
      "metadata": {
        "id": "saUKYpkvljBY"
      },
      "source": [
        "2. 인덱스를 통한 데이터 업데이트"
      ]
    },
    {
      "cell_type": "code",
      "execution_count": null,
      "metadata": {
        "id": "wyhuC3wyljBY"
      },
      "outputs": [],
      "source": [
        ""
      ]
    },
    {
      "cell_type": "markdown",
      "metadata": {
        "id": "WXoAI6RwljBZ"
      },
      "source": [
        "3. 인덱스 재사용하기"
      ]
    },
    {
      "cell_type": "code",
      "execution_count": null,
      "metadata": {
        "id": "BukTcjKgljBZ"
      },
      "outputs": [],
      "source": [
        ""
      ]
    },
    {
      "cell_type": "markdown",
      "source": [
        "4. 인덱스 활용해서 멀티플한 값 접근하기\n",
        "- s[[1,2,3]]"
      ],
      "metadata": {
        "id": "qRl9KKmJF6E6"
      }
    },
    {
      "cell_type": "code",
      "source": [
        ""
      ],
      "metadata": {
        "id": "qQtaqJRDF8_m"
      },
      "execution_count": null,
      "outputs": []
    },
    {
      "cell_type": "markdown",
      "source": [
        "## 학습목표\n",
        "2. Series 함수 활용하여 데이터 분석하기"
      ],
      "metadata": {
        "id": "F0OeSXQdEfe0"
      }
    },
    {
      "cell_type": "markdown",
      "source": [
        "#### **Series size, shape, unique, count, value_counts 함수**\n",
        " - size : 개수 반환\n",
        " - shape : 튜플형태로 shape반환\n",
        " - unique: 유일한 값만 ndarray로 반환\n",
        " - count : NaN을 제외한 개수를 반환\n",
        " - mean: NaN을 제외한 평균 \n",
        " - value_counts: NaN을 제외하고 각 값들의 빈도를 반환 "
      ],
      "metadata": {
        "id": "aQNAt01ZEgwK"
      }
    },
    {
      "cell_type": "code",
      "source": [
        ""
      ],
      "metadata": {
        "id": "ITOEiY0hEsrp"
      },
      "execution_count": null,
      "outputs": []
    },
    {
      "cell_type": "markdown",
      "source": [
        "index를 활용하여 멀티플한 값에 접근"
      ],
      "metadata": {
        "id": "24E9wJZoFF65"
      }
    },
    {
      "cell_type": "code",
      "source": [
        ""
      ],
      "metadata": {
        "id": "KC_KdZ1_FIYX"
      },
      "execution_count": null,
      "outputs": []
    },
    {
      "cell_type": "markdown",
      "source": [
        "#### **head, tail 함수**\n",
        " - head : 상위 n개 출력 기본 5개\n",
        " - tail : 하위 n개 출력 기본 5개\n",
        "\n",
        "\n",
        " - Series에서는 사용이 잘 안되지만, DataFrame에서 매우 유용하게 사용됨"
      ],
      "metadata": {
        "id": "9fO8KsT4FGnK"
      }
    },
    {
      "cell_type": "code",
      "source": [
        ""
      ],
      "metadata": {
        "id": "YqmtIHrPFIHb"
      },
      "execution_count": null,
      "outputs": []
    },
    {
      "cell_type": "markdown",
      "source": [
        "## 학습목표\n",
        "3. Series 데이터 연산하기"
      ],
      "metadata": {
        "id": "Vr8L4CCuGrS9"
      }
    },
    {
      "cell_type": "markdown",
      "source": [
        "#### index를 기준으로 연산"
      ],
      "metadata": {
        "id": "D9p8VB5uGuR0"
      }
    },
    {
      "cell_type": "code",
      "source": [
        ""
      ],
      "metadata": {
        "id": "dcK_q45AG0jK"
      },
      "execution_count": null,
      "outputs": []
    },
    {
      "cell_type": "markdown",
      "source": [
        "#### **산술연산**\n",
        " - Series의 경우에도 스칼라와의 연산은 각 원소별로 스칼라와의 연산이 적용\n",
        " - Series와의 연산은 각 인덱스에 맞는 값끼리 연산이 적용\n",
        "   - 이때, 인덱스의 pair가 맞지 않으면, 결과는 NaN "
      ],
      "metadata": {
        "id": "W8sszhSrG8u3"
      }
    },
    {
      "cell_type": "code",
      "source": [
        ""
      ],
      "metadata": {
        "id": "FPbYMLaaG9rP"
      },
      "execution_count": null,
      "outputs": []
    },
    {
      "cell_type": "markdown",
      "source": [
        "#### **index pair가 맞지 않는 경우**\n",
        " - 해당 index에 대해선 NaN 값 생성"
      ],
      "metadata": {
        "id": "1U7sPr6nHPHV"
      }
    },
    {
      "cell_type": "code",
      "source": [
        ""
      ],
      "metadata": {
        "id": "WZalak5QHPtz"
      },
      "execution_count": null,
      "outputs": []
    },
    {
      "cell_type": "markdown",
      "source": [
        "## 학습목표\n",
        "4. Series 데이터 Boolean Selection으로 데이터 선택하기\n",
        "  - 지난 주 Numpy 설명할 때 썻던것과 동일 (Masking)"
      ],
      "metadata": {
        "id": "qFAa2ba6HQBA"
      }
    },
    {
      "cell_type": "markdown",
      "source": [
        " #### **Boolean selection**\n",
        "  - boolean Series가 []와 함께 사용되면 True 값에 해당하는 값만 새로 반환되는 Series객체에 포함됨\n",
        "  - 다중조건의 경우, &(and), |(or)를 사용하여 연결 가능"
      ],
      "metadata": {
        "id": "ORgN7uCqHRCm"
      }
    },
    {
      "cell_type": "code",
      "source": [
        ""
      ],
      "metadata": {
        "id": "hMe839BWH0fd"
      },
      "execution_count": null,
      "outputs": []
    },
    {
      "cell_type": "markdown",
      "source": [
        "## 학습목표 \n",
        "5. Series 데이터 변경 & 슬라이싱하기"
      ],
      "metadata": {
        "id": "wijjn3MyOFWw"
      }
    },
    {
      "cell_type": "markdown",
      "source": [
        "#### **Series 값 변경**\n",
        "  - 추가 및 업데이트: 인덱스를 이용\n",
        "  - 삭제: drop함수 이용\n"
      ],
      "metadata": {
        "id": "LY82pzjxOJB3"
      }
    },
    {
      "cell_type": "code",
      "source": [
        ""
      ],
      "metadata": {
        "id": "SPrqVropPGcH"
      },
      "execution_count": null,
      "outputs": []
    },
    {
      "cell_type": "markdown",
      "source": [
        "#### **Slicing**\n",
        " - 리스트, ndarray와 동일하게 적용"
      ],
      "metadata": {
        "id": "aHBnEU9dPu6H"
      }
    },
    {
      "cell_type": "code",
      "source": [
        ""
      ],
      "metadata": {
        "id": "pmSR2FOLPwCK"
      },
      "execution_count": null,
      "outputs": []
    },
    {
      "cell_type": "markdown",
      "source": [
        "# DataFrame"
      ],
      "metadata": {
        "id": "ZEgq8sRpQcJ8"
      }
    },
    {
      "cell_type": "markdown",
      "source": [
        "## 학습목표\n",
        " 1. Dataframe data 살펴보기"
      ],
      "metadata": {
        "id": "2nJRgUIdQdkN"
      }
    },
    {
      "cell_type": "markdown",
      "source": [
        "#### DataFrame\n",
        "  - Series가 1차원이라면 DataFrame은 2차원으로 확대된 버젼\n",
        "  - Excel spreadsheet이라고 생각하면 이해하기 쉬움\n",
        "  - 2차원이기 때문에 인덱스가 row, column로 구성됨\n",
        "   - row는 각 개별 데이터를, column은 개별 속성을 의미\n",
        "  - Data Analysis, Machine Learning에서 data 변형을 위해 가장 많이 사용"
      ],
      "metadata": {
        "id": "DaDKZa0yQgLi"
      }
    },
    {
      "cell_type": "code",
      "source": [
        "# csv 데이터 읽기"
      ],
      "metadata": {
        "id": "mRk3cRBrQh9Y"
      },
      "execution_count": null,
      "outputs": []
    },
    {
      "cell_type": "markdown",
      "source": [
        "#### head, tail 함수\n",
        " - 데이터 전체가 아닌, 일부(처음부터, 혹은 마지막부터)를 간단히 보기 위한 함수\n",
        " - default = 5"
      ],
      "metadata": {
        "id": "Pf5UqTGERHu8"
      }
    },
    {
      "cell_type": "code",
      "source": [
        ""
      ],
      "metadata": {
        "id": "IAYfLwtqRIPu"
      },
      "execution_count": null,
      "outputs": []
    },
    {
      "cell_type": "markdown",
      "source": [
        "#### dataframe 데이터 파악하기\n",
        " - shape 속성 (row, column)\n",
        " - describe 함수 - 숫자형 데이터의 통계치 계산\n",
        " - info 함수 - 데이터 타입, 각 아이템의 개수 등 출력"
      ],
      "metadata": {
        "id": "jfetxvmrRTGz"
      }
    },
    {
      "cell_type": "code",
      "source": [
        ""
      ],
      "metadata": {
        "id": "c0-QDNoNRTnv"
      },
      "execution_count": null,
      "outputs": []
    },
    {
      "cell_type": "markdown",
      "source": [
        "## 학습목표\n",
        "2. 인덱스와 컬럼의 이해"
      ],
      "metadata": {
        "id": "6cwCplztSmjM"
      }
    },
    {
      "cell_type": "markdown",
      "source": [
        "#### 인덱스(index)\n",
        " - index 속성\n",
        " - 각 아이템을 특정할 수 있는 고유의 값을 저장\n",
        " - 복잡한 데이터의 경우, 멀티 인덱스로 표현 가능"
      ],
      "metadata": {
        "id": "ph7vXYKrSqFM"
      }
    },
    {
      "cell_type": "code",
      "source": [
        ""
      ],
      "metadata": {
        "id": "kAhYyhmkSuYI"
      },
      "execution_count": null,
      "outputs": []
    },
    {
      "cell_type": "markdown",
      "source": [
        "#### 컬럼(column)\n",
        " - columns 속성\n",
        " - 각각의 특성(feature)을 나타냄\n",
        " - 복잡한 데이터의 경우, 멀티 컬럼으로 표현 가능"
      ],
      "metadata": {
        "id": "udUYyRgpSvik"
      }
    },
    {
      "cell_type": "code",
      "source": [
        ""
      ],
      "metadata": {
        "id": "UnDfh2XASwB5"
      },
      "execution_count": null,
      "outputs": []
    },
    {
      "cell_type": "markdown",
      "source": [
        "## 학습목표\n",
        " 3. 수치해석 라이브러리인 numpy의 이해 및 사용\n",
        " 4. 데이터 분석 라이브러이인 pandas의 이해 및 사용"
      ],
      "metadata": {
        "id": "toYCSmRJTfAp"
      }
    },
    {
      "cell_type": "markdown",
      "source": [
        "#### DataFrame 생성하기\n",
        " - 일반적으로 분석을 위한 데이터는 다른 데이터 소스(database, 외부 파일)을 통해 dataframe을 생성\n",
        " - 여기서는 실습을 통해, dummy 데이터를 생성하는 방법을 다룰 예정"
      ],
      "metadata": {
        "id": "BNNo6jorThZ_"
      }
    },
    {
      "cell_type": "markdown",
      "source": [
        "#### dictionary로 부터 생성하기\n",
        " - dict의 key -> column"
      ],
      "metadata": {
        "id": "f84BoDlGTmMy"
      }
    },
    {
      "cell_type": "code",
      "source": [
        ""
      ],
      "metadata": {
        "id": "90CwmEW4TtbO"
      },
      "execution_count": null,
      "outputs": []
    },
    {
      "cell_type": "markdown",
      "source": [
        "#### Series로 부터 생성하기\n",
        " - 각 Series의 인덱스 -> column"
      ],
      "metadata": {
        "id": "3RnNGmipToLT"
      }
    },
    {
      "cell_type": "code",
      "source": [
        ""
      ],
      "metadata": {
        "id": "MvA17w3tTtCH"
      },
      "execution_count": null,
      "outputs": []
    },
    {
      "cell_type": "markdown",
      "source": [
        "## 학습목표\n",
        "5. row, column 이해하기\n",
        "6. loc, iloc 이해하기"
      ],
      "metadata": {
        "id": "zZ3DsN8rTuVR"
      }
    },
    {
      "cell_type": "markdown",
      "source": [
        "#### csv 데이터로 부터 Dataframe 생성\n",
        " - 데이터 분석을 위해, dataframe을 생성하는 가장 일반적인 방법\n",
        " - 데이터 소스로부터 추출된 csv(comma separated values) 파일로부터 생성\n",
        " - pandas.read_csv 함수 사용"
      ],
      "metadata": {
        "id": "oJNdAcyFTvNa"
      }
    },
    {
      "cell_type": "code",
      "source": [
        ""
      ],
      "metadata": {
        "id": "fE2PsGhOrYnd"
      },
      "execution_count": null,
      "outputs": []
    },
    {
      "cell_type": "markdown",
      "source": [
        "#### read_csv 함수 파라미터\n",
        " - sep - 각 데이터 값을 구별하기 위한 구분자(separator) 설정 \n",
        " - header - header를 무시할 경우, None 설정\n",
        " - index_col - index로 사용할 column 설정\n",
        " - usecols - 실제로 dataframe에 로딩할 columns만 설정\n",
        "\n",
        " - i.e.) pd.read_csv('Dataset.csv', index_col='Feature1', usecols=['Feature2', 'Feature3' ...])"
      ],
      "metadata": {
        "id": "n_8CjFjarnEv"
      }
    },
    {
      "cell_type": "code",
      "source": [
        ""
      ],
      "metadata": {
        "id": "iPbsCDv7rosR"
      },
      "execution_count": null,
      "outputs": []
    },
    {
      "cell_type": "markdown",
      "source": [
        "#### column 선택하기\n",
        "  - 기본적으로 [ ]는 column을 추출 \n",
        "  - 컬럼 인덱스일 경우 인덱스의 리스트 사용 가능\n",
        "    - 리스트를 전달할 경우 결과는 Dataframe\n",
        "    - 하나의 컬럼명을 전달할 경우 결과는 Series"
      ],
      "metadata": {
        "id": "vghNjQNYsrdH"
      }
    },
    {
      "cell_type": "code",
      "source": [
        ""
      ],
      "metadata": {
        "id": "Jc3Tvffpsr3v"
      },
      "execution_count": null,
      "outputs": []
    },
    {
      "cell_type": "markdown",
      "source": [
        "#### dataframe slicing\n",
        "  - dataframe의 경우 기본적으로 [] 연산자가 **column 선택**에 사용\n",
        "  - 하지만, slicing은 row 레벨로 지원"
      ],
      "metadata": {
        "id": "sH6KxQpItlCS"
      }
    },
    {
      "cell_type": "code",
      "source": [
        ""
      ],
      "metadata": {
        "id": "XIpfjg31tnE9"
      },
      "execution_count": null,
      "outputs": []
    },
    {
      "cell_type": "markdown",
      "source": [
        "#### row 선택하기\n",
        "  - Seires의 경우 []로 row 선택이 가능하나, **DataFrame의 경우는 기본적으로 column을 선택하도록 설계**\n",
        "  - **.loc, .iloc**로 row 선택 가능\n",
        "    - loc - 인덱스 자체를 사용\n",
        "    - iloc - 0 based index로 사용\n",
        "    - 이 두 함수는 ,를 사용하여 column 선택도 가능"
      ],
      "metadata": {
        "id": "zAfRLEcctnyQ"
      }
    },
    {
      "cell_type": "code",
      "source": [
        ""
      ],
      "metadata": {
        "id": "pPi-2Bd0uGJ9"
      },
      "execution_count": null,
      "outputs": []
    },
    {
      "cell_type": "markdown",
      "source": [
        "#### row, column 동시에 선택하기\n",
        " - loc, iloc 속성을 이용할 때, 콤마를 이용하여 둘 다 명시 가능\n",
        " - row(index) 먼저, 필요한 feature(column) 순서\n",
        "  - i.e.) data.loc[ [row1,row2,row3], ['col1','col2','col3'] ] \n",
        " - iloc 은 column을 순서대로 인식하기 때문에 숫자로 대체 가능\n",
        "  - i.e.) data.iloc[ [row1,row2,row3], [0,2,3] ] "
      ],
      "metadata": {
        "id": "D4pCOlmvxmW7"
      }
    },
    {
      "cell_type": "code",
      "source": [
        ""
      ],
      "metadata": {
        "id": "CgGFbA4-xnfN"
      },
      "execution_count": null,
      "outputs": []
    },
    {
      "cell_type": "markdown",
      "source": [
        "#### **boolean selection으로 row 선택하기**\n",
        " - numpy에서와 동일한 방식으로 해당 조건에 맞는 row만 선택"
      ],
      "metadata": {
        "id": "ZK021Al5yJrS"
      }
    },
    {
      "cell_type": "markdown",
      "source": [
        "#### 30대이면서 1등석에 탄 사람 선택하기 "
      ],
      "metadata": {
        "id": "GF532fERyMvl"
      }
    },
    {
      "cell_type": "code",
      "source": [
        ""
      ],
      "metadata": {
        "id": "lgPZB0t-yQ6-"
      },
      "execution_count": null,
      "outputs": []
    },
    {
      "cell_type": "markdown",
      "source": [
        "## 학습목표\n",
        " 7. Dataframe에 새로운 colum을 추가하기\n",
        " 8. Dataframe에 column 삭제하기"
      ],
      "metadata": {
        "id": "AAxa76ckTn_f"
      }
    },
    {
      "cell_type": "markdown",
      "source": [
        "#### 새 column 추가하기\n",
        " - [] 사용하여 추가하기\n",
        " - insert 함수 사용하여 원하는 위치에 추가하기\n",
        "  - dataset.insert(위치, '컬럼명', '넣고싶은 값')"
      ],
      "metadata": {
        "id": "UJo23pupTtRi"
      }
    },
    {
      "cell_type": "code",
      "source": [
        ""
      ],
      "metadata": {
        "id": "g_F8A3M0UJxI"
      },
      "execution_count": null,
      "outputs": []
    },
    {
      "cell_type": "markdown",
      "source": [
        "#### column 삭제하기\n",
        " - drop 함수 사용하여 삭제\n",
        "   - 리스트를 사용하여 멀티플 삭제 가능 \n",
        "   - axis=1 -> 열 전체 삭제\n",
        "   - i.e.) dataset.drop(['삭제하고','싶은','column'], axis=1, inplace=True)"
      ],
      "metadata": {
        "id": "TfVWmCRaUKj2"
      }
    },
    {
      "cell_type": "code",
      "source": [
        ""
      ],
      "metadata": {
        "id": "EA4kssQcUYzF"
      },
      "execution_count": null,
      "outputs": []
    },
    {
      "cell_type": "markdown",
      "source": [
        "## 학습목표\n",
        " 9. corr 함수 이용하기"
      ],
      "metadata": {
        "id": "GEJZ8PURVFvQ"
      }
    },
    {
      "cell_type": "markdown",
      "source": [
        "#### 변수(column) 사이의 상관계수(correlation) \n",
        " - corr함수를 통해 상관계수 연산 (-1, 1 사이의 결과)\n",
        "   - 연속성(숫자형)데이터에 대해서만 연산\n",
        "   - **주의!! 1, -1에 가까울수록 서로 유의미하지만,인과관계를 의미하진 않음 "
      ],
      "metadata": {
        "id": "2vAKCdQMVIxS"
      }
    },
    {
      "cell_type": "code",
      "source": [
        ""
      ],
      "metadata": {
        "id": "4dPxMISaVNS0"
      },
      "execution_count": null,
      "outputs": []
    },
    {
      "cell_type": "markdown",
      "source": [
        "## 학습목표\n",
        " 10. NaN 처리 방법 이해하기"
      ],
      "metadata": {
        "id": "XFoBI34BVipP"
      }
    },
    {
      "cell_type": "markdown",
      "source": [
        "#### NaN 값 확인\n",
        " - info함수를 통하여 개수 확인\n",
        " - isna함수를 통해 boolean 타입으로 확인"
      ],
      "metadata": {
        "id": "lYbVYzFmVj6g"
      }
    },
    {
      "cell_type": "code",
      "source": [
        ""
      ],
      "metadata": {
        "id": "xhwojN6FVmmF"
      },
      "execution_count": null,
      "outputs": []
    },
    {
      "cell_type": "markdown",
      "source": [
        "#### NaN 처리 방법\n",
        " - 데이터에서 삭제\n",
        "   - dropna 함수 \n",
        " - 다른 값으로 치환\n",
        "   - fillna 함수"
      ],
      "metadata": {
        "id": "T7xqpx4_XUj7"
      }
    },
    {
      "cell_type": "markdown",
      "source": [
        "* NaN 데이터 삭제하기"
      ],
      "metadata": {
        "id": "caXeT2VeXWHw"
      }
    },
    {
      "cell_type": "code",
      "source": [
        ""
      ],
      "metadata": {
        "id": "wPSPdUk5XpjP"
      },
      "execution_count": null,
      "outputs": []
    },
    {
      "cell_type": "markdown",
      "source": [
        "* NaN 값 대체하기\n",
        " - 평균으로 대체하기\n",
        " - 생존자/사망자 별 평균으로 대체하기"
      ],
      "metadata": {
        "id": "a-HugAITYtmm"
      }
    },
    {
      "cell_type": "code",
      "source": [
        ""
      ],
      "metadata": {
        "id": "69BVYNmpYueq"
      },
      "execution_count": null,
      "outputs": []
    },
    {
      "cell_type": "markdown",
      "source": [
        "## 학습목표\n",
        " 11. 숫자 & 범주형 데이터의 이해"
      ],
      "metadata": {
        "id": "yYaE1QFhae1n"
      }
    },
    {
      "cell_type": "markdown",
      "source": [
        "#### info함수로 각 변수의 데이터 타입 확인\n",
        " - 타입 변경은 astype함수를 사용"
      ],
      "metadata": {
        "id": "Oz2mAp3qag3Y"
      }
    },
    {
      "cell_type": "code",
      "source": [
        ""
      ],
      "metadata": {
        "id": "31NhS-FJa3t2"
      },
      "execution_count": null,
      "outputs": []
    },
    {
      "cell_type": "markdown",
      "source": [
        "#### 숫자형(Numerical Type) 데이터\n",
        " - 연속성을 띄는 숫자로 이루어진 데이터\n",
        "   - 예) Age, Fare 등"
      ],
      "metadata": {
        "id": "iRQb-j4qa5Bs"
      }
    },
    {
      "cell_type": "code",
      "source": [
        ""
      ],
      "metadata": {
        "id": "GJPDnKZTa5cf"
      },
      "execution_count": null,
      "outputs": []
    },
    {
      "cell_type": "markdown",
      "source": [
        "#### 범주형(Categorical Type) 데이터\n",
        " - 연속적이지 않은 값(대부분의 경우 숫자를 제외한 나머지 값)을 갖는 데이터를 의미\n",
        "   - 예) Name, Sex, Ticket, Cabin, Embarked \n",
        " - 어떤 경우, 숫자형 타입이라 할지라도 개념적으로 범주형으로 처리해야할 경우가 있음\n",
        "   - 예) Pclass"
      ],
      "metadata": {
        "id": "6kHgS8kea6cV"
      }
    },
    {
      "cell_type": "code",
      "source": [
        ""
      ],
      "metadata": {
        "id": "IHGgNUexa67t"
      },
      "execution_count": null,
      "outputs": []
    },
    {
      "cell_type": "markdown",
      "source": [
        "#### 숫자 데이터의 범주형 데이터 화"
      ],
      "metadata": {
        "id": "e4XOgoOPbfuO"
      }
    },
    {
      "cell_type": "markdown",
      "source": [
        "#### Pclass 변수 변환하기\n",
        " - astype 사용하여 간단히 타입만 변환"
      ],
      "metadata": {
        "id": "41svMx72bhko"
      }
    },
    {
      "cell_type": "code",
      "source": [
        ""
      ],
      "metadata": {
        "id": "jJeN_wa7bi6r"
      },
      "execution_count": null,
      "outputs": []
    },
    {
      "cell_type": "markdown",
      "source": [
        "#### Age 변수 변환하기\n",
        " - 변환 로직을 함수로 만든 후, apply 함수로 적용"
      ],
      "metadata": {
        "id": "T8nt7GHLbkH1"
      }
    },
    {
      "cell_type": "code",
      "source": [
        ""
      ],
      "metadata": {
        "id": "MDyBwRAmbsV2"
      },
      "execution_count": null,
      "outputs": []
    },
    {
      "cell_type": "markdown",
      "source": [
        "#### 범주형 데이터 전처리 하기 ( one-hot encoding)"
      ],
      "metadata": {
        "id": "W3-4SggTcqTc"
      }
    },
    {
      "cell_type": "markdown",
      "source": [
        "#### One-hot encoding\n",
        " - 범주형 데이터는 분석단계에서 계산이 어렵기 때문에 숫자형으로 변경이 필요함\n",
        " - 범주형 데이터의 각 범주(category)를 column레벨로 변경\n",
        " - 해당 범주에 해당하면 1, 아니면 0으로 채우는 인코딩 기법\n",
        " - pandas.get_dummies 함수 사용\n",
        "   - drop_first : 첫번째 카테고리 값은 사용하지 않음\n",
        "    - 이 경우, True를 하는 이유는 조금이라도 용량을 줄이기 위함, 그런데 나중에 헷갈릴 수 있으니 활용할때는 주의할것"
      ],
      "metadata": {
        "id": "asjv5Yrgctma"
      }
    },
    {
      "cell_type": "code",
      "source": [
        ""
      ],
      "metadata": {
        "id": "qxHy__Fgcvm0"
      },
      "execution_count": null,
      "outputs": []
    },
    {
      "cell_type": "markdown",
      "source": [
        "## 학습목표\n",
        "12. DataFrame groupby 이해하기"
      ],
      "metadata": {
        "id": "mx3F3HaHeL4d"
      }
    },
    {
      "cell_type": "markdown",
      "source": [
        "#### group by\n",
        "  + 아래의 세 단계를 적용하여 데이터를 그룹화(groupping) (SQL의 group by 와 개념적으로는 동일, 사용법은 유사)\n",
        "    - 데이터 분할\n",
        "    - operation 적용\n",
        "    - 데이터 병합"
      ],
      "metadata": {
        "id": "oUyFIvXOeM__"
      }
    },
    {
      "cell_type": "markdown",
      "source": [
        "#### GroupBy groups 속성\n",
        " - 각 그룹과 그룹에 속한 index를 dict 형태로 표현"
      ],
      "metadata": {
        "id": "Eiyqwb94eTXI"
      }
    },
    {
      "cell_type": "code",
      "source": [
        ""
      ],
      "metadata": {
        "id": "DHSy34wNeWuG"
      },
      "execution_count": null,
      "outputs": []
    },
    {
      "cell_type": "markdown",
      "source": [
        "#### groupping 함수\n",
        " - 그룹 데이터에 적용 가능한 통계 함수(NaN은 제외하여 연산)\n",
        " - count - 데이터 개수 \n",
        " - sum   - 데이터의 합\n",
        " - mean, std, var - 평균, 표준편차, 분산\n",
        " - min, max - 최소, 최대값"
      ],
      "metadata": {
        "id": "IRUfpzFIfAfB"
      }
    },
    {
      "cell_type": "code",
      "source": [
        ""
      ],
      "metadata": {
        "id": "xjl88FHsfDVW"
      },
      "execution_count": null,
      "outputs": []
    },
    {
      "cell_type": "markdown",
      "source": [
        "#### 복수 columns로 groupping 하기\n",
        " - groupby에 column 리스트를 전달\n",
        " - 통계함수를 적용한 결과는 multiindex를 갖는 dataframe"
      ],
      "metadata": {
        "id": "rnyOaY2ff4wG"
      }
    },
    {
      "cell_type": "markdown",
      "source": [
        "* 클래스와 성별에 따른 생존률 구해보기"
      ],
      "metadata": {
        "id": "kfWsWeEWf5JE"
      }
    },
    {
      "cell_type": "code",
      "source": [
        ""
      ],
      "metadata": {
        "id": "Xpn4nl64f6ck"
      },
      "execution_count": null,
      "outputs": []
    },
    {
      "cell_type": "markdown",
      "source": [
        "#### index를 이용한 group by\n",
        " - index가 있는 경우, groupby 함수에 level 사용 가능\n",
        "   - level은 index의 depth를 의미하며, 가장 왼쪽부터 0부터 증가"
      ],
      "metadata": {
        "id": "0Zt23FS0gJNa"
      }
    },
    {
      "cell_type": "markdown",
      "source": [
        "* **set_index** 함수\n",
        " - column 데이터를 index 레벨로 변경\n",
        "* **reset_index** 함수\n",
        " - 인덱스 초기화"
      ],
      "metadata": {
        "id": "OLFq1KXXgJoI"
      }
    },
    {
      "cell_type": "code",
      "source": [
        ""
      ],
      "metadata": {
        "id": "_EgQ6voRgK9O"
      },
      "execution_count": null,
      "outputs": []
    },
    {
      "cell_type": "markdown",
      "source": [
        "#### 나이대별로 생존율 구하기"
      ],
      "metadata": {
        "id": "L_LPH-CagZkt"
      }
    },
    {
      "cell_type": "code",
      "source": [
        ""
      ],
      "metadata": {
        "id": "UfmELh61hnPx"
      },
      "execution_count": null,
      "outputs": []
    },
    {
      "cell_type": "markdown",
      "source": [
        "#### MultiIndex를 이용한 groupping"
      ],
      "metadata": {
        "id": "pyKdXl-Oh_nK"
      }
    },
    {
      "cell_type": "code",
      "source": [
        ""
      ],
      "metadata": {
        "id": "DeMFVARFiAho"
      },
      "execution_count": null,
      "outputs": []
    },
    {
      "cell_type": "markdown",
      "source": [
        "#### aggregate(집계) 함수 사용하기\n",
        " - groupby 결과에 집계함수를 적용하여 각 그룹별 데이터 확인 가능\n",
        " - 지금까지 배운 것 한번에 활용하기!"
      ],
      "metadata": {
        "id": "i8QpBkyniBoc"
      }
    },
    {
      "cell_type": "code",
      "source": [
        "train_data.set_index(['Pclass', 'Sex']).groupby(level=[0, 1]).aggregate([np.mean, np.sum, np.max])"
      ],
      "metadata": {
        "colab": {
          "base_uri": "https://localhost:8080/",
          "height": 364
        },
        "id": "T0ruD1PyiXn5",
        "outputId": "28f03bdf-a3b8-4ce0-dc59-a168ae9335a1"
      },
      "execution_count": null,
      "outputs": [
        {
          "output_type": "execute_result",
          "data": {
            "text/html": [
              "\n",
              "  <div id=\"df-8e811bad-d169-469c-a7fa-cd94a15cd56a\">\n",
              "    <div class=\"colab-df-container\">\n",
              "      <div>\n",
              "<style scoped>\n",
              "    .dataframe tbody tr th:only-of-type {\n",
              "        vertical-align: middle;\n",
              "    }\n",
              "\n",
              "    .dataframe tbody tr th {\n",
              "        vertical-align: top;\n",
              "    }\n",
              "\n",
              "    .dataframe thead tr th {\n",
              "        text-align: left;\n",
              "    }\n",
              "\n",
              "    .dataframe thead tr:last-of-type th {\n",
              "        text-align: right;\n",
              "    }\n",
              "</style>\n",
              "<table border=\"1\" class=\"dataframe\">\n",
              "  <thead>\n",
              "    <tr>\n",
              "      <th></th>\n",
              "      <th></th>\n",
              "      <th colspan=\"3\" halign=\"left\">PassengerId</th>\n",
              "      <th colspan=\"3\" halign=\"left\">Survived</th>\n",
              "      <th colspan=\"3\" halign=\"left\">Age</th>\n",
              "      <th colspan=\"3\" halign=\"left\">SibSp</th>\n",
              "      <th colspan=\"3\" halign=\"left\">Parch</th>\n",
              "      <th colspan=\"3\" halign=\"left\">Fare</th>\n",
              "    </tr>\n",
              "    <tr>\n",
              "      <th></th>\n",
              "      <th></th>\n",
              "      <th>mean</th>\n",
              "      <th>sum</th>\n",
              "      <th>amax</th>\n",
              "      <th>mean</th>\n",
              "      <th>sum</th>\n",
              "      <th>amax</th>\n",
              "      <th>mean</th>\n",
              "      <th>sum</th>\n",
              "      <th>amax</th>\n",
              "      <th>mean</th>\n",
              "      <th>sum</th>\n",
              "      <th>amax</th>\n",
              "      <th>mean</th>\n",
              "      <th>sum</th>\n",
              "      <th>amax</th>\n",
              "      <th>mean</th>\n",
              "      <th>sum</th>\n",
              "      <th>amax</th>\n",
              "    </tr>\n",
              "    <tr>\n",
              "      <th>Pclass</th>\n",
              "      <th>Sex</th>\n",
              "      <th></th>\n",
              "      <th></th>\n",
              "      <th></th>\n",
              "      <th></th>\n",
              "      <th></th>\n",
              "      <th></th>\n",
              "      <th></th>\n",
              "      <th></th>\n",
              "      <th></th>\n",
              "      <th></th>\n",
              "      <th></th>\n",
              "      <th></th>\n",
              "      <th></th>\n",
              "      <th></th>\n",
              "      <th></th>\n",
              "      <th></th>\n",
              "      <th></th>\n",
              "      <th></th>\n",
              "    </tr>\n",
              "  </thead>\n",
              "  <tbody>\n",
              "    <tr>\n",
              "      <th rowspan=\"2\" valign=\"top\">1</th>\n",
              "      <th>female</th>\n",
              "      <td>469.212766</td>\n",
              "      <td>44106</td>\n",
              "      <td>888</td>\n",
              "      <td>0.968085</td>\n",
              "      <td>91</td>\n",
              "      <td>1</td>\n",
              "      <td>34.611765</td>\n",
              "      <td>2942.00</td>\n",
              "      <td>63.0</td>\n",
              "      <td>0.553191</td>\n",
              "      <td>52</td>\n",
              "      <td>3</td>\n",
              "      <td>0.457447</td>\n",
              "      <td>43</td>\n",
              "      <td>2</td>\n",
              "      <td>106.125798</td>\n",
              "      <td>9975.8250</td>\n",
              "      <td>512.3292</td>\n",
              "    </tr>\n",
              "    <tr>\n",
              "      <th>male</th>\n",
              "      <td>455.729508</td>\n",
              "      <td>55599</td>\n",
              "      <td>890</td>\n",
              "      <td>0.368852</td>\n",
              "      <td>45</td>\n",
              "      <td>1</td>\n",
              "      <td>41.281386</td>\n",
              "      <td>4169.42</td>\n",
              "      <td>80.0</td>\n",
              "      <td>0.311475</td>\n",
              "      <td>38</td>\n",
              "      <td>3</td>\n",
              "      <td>0.278689</td>\n",
              "      <td>34</td>\n",
              "      <td>4</td>\n",
              "      <td>67.226127</td>\n",
              "      <td>8201.5875</td>\n",
              "      <td>512.3292</td>\n",
              "    </tr>\n",
              "    <tr>\n",
              "      <th rowspan=\"2\" valign=\"top\">2</th>\n",
              "      <th>female</th>\n",
              "      <td>443.105263</td>\n",
              "      <td>33676</td>\n",
              "      <td>881</td>\n",
              "      <td>0.921053</td>\n",
              "      <td>70</td>\n",
              "      <td>1</td>\n",
              "      <td>28.722973</td>\n",
              "      <td>2125.50</td>\n",
              "      <td>57.0</td>\n",
              "      <td>0.486842</td>\n",
              "      <td>37</td>\n",
              "      <td>3</td>\n",
              "      <td>0.605263</td>\n",
              "      <td>46</td>\n",
              "      <td>3</td>\n",
              "      <td>21.970121</td>\n",
              "      <td>1669.7292</td>\n",
              "      <td>65.0000</td>\n",
              "    </tr>\n",
              "    <tr>\n",
              "      <th>male</th>\n",
              "      <td>447.962963</td>\n",
              "      <td>48380</td>\n",
              "      <td>887</td>\n",
              "      <td>0.157407</td>\n",
              "      <td>17</td>\n",
              "      <td>1</td>\n",
              "      <td>30.740707</td>\n",
              "      <td>3043.33</td>\n",
              "      <td>70.0</td>\n",
              "      <td>0.342593</td>\n",
              "      <td>37</td>\n",
              "      <td>2</td>\n",
              "      <td>0.222222</td>\n",
              "      <td>24</td>\n",
              "      <td>2</td>\n",
              "      <td>19.741782</td>\n",
              "      <td>2132.1125</td>\n",
              "      <td>73.5000</td>\n",
              "    </tr>\n",
              "    <tr>\n",
              "      <th rowspan=\"2\" valign=\"top\">3</th>\n",
              "      <th>female</th>\n",
              "      <td>399.729167</td>\n",
              "      <td>57561</td>\n",
              "      <td>889</td>\n",
              "      <td>0.500000</td>\n",
              "      <td>72</td>\n",
              "      <td>1</td>\n",
              "      <td>21.750000</td>\n",
              "      <td>2218.50</td>\n",
              "      <td>63.0</td>\n",
              "      <td>0.895833</td>\n",
              "      <td>129</td>\n",
              "      <td>8</td>\n",
              "      <td>0.798611</td>\n",
              "      <td>115</td>\n",
              "      <td>6</td>\n",
              "      <td>16.118810</td>\n",
              "      <td>2321.1086</td>\n",
              "      <td>69.5500</td>\n",
              "    </tr>\n",
              "    <tr>\n",
              "      <th>male</th>\n",
              "      <td>455.515850</td>\n",
              "      <td>158064</td>\n",
              "      <td>891</td>\n",
              "      <td>0.135447</td>\n",
              "      <td>47</td>\n",
              "      <td>1</td>\n",
              "      <td>26.507589</td>\n",
              "      <td>6706.42</td>\n",
              "      <td>74.0</td>\n",
              "      <td>0.498559</td>\n",
              "      <td>173</td>\n",
              "      <td>8</td>\n",
              "      <td>0.224784</td>\n",
              "      <td>78</td>\n",
              "      <td>5</td>\n",
              "      <td>12.661633</td>\n",
              "      <td>4393.5865</td>\n",
              "      <td>69.5500</td>\n",
              "    </tr>\n",
              "  </tbody>\n",
              "</table>\n",
              "</div>\n",
              "      <button class=\"colab-df-convert\" onclick=\"convertToInteractive('df-8e811bad-d169-469c-a7fa-cd94a15cd56a')\"\n",
              "              title=\"Convert this dataframe to an interactive table.\"\n",
              "              style=\"display:none;\">\n",
              "        \n",
              "  <svg xmlns=\"http://www.w3.org/2000/svg\" height=\"24px\"viewBox=\"0 0 24 24\"\n",
              "       width=\"24px\">\n",
              "    <path d=\"M0 0h24v24H0V0z\" fill=\"none\"/>\n",
              "    <path d=\"M18.56 5.44l.94 2.06.94-2.06 2.06-.94-2.06-.94-.94-2.06-.94 2.06-2.06.94zm-11 1L8.5 8.5l.94-2.06 2.06-.94-2.06-.94L8.5 2.5l-.94 2.06-2.06.94zm10 10l.94 2.06.94-2.06 2.06-.94-2.06-.94-.94-2.06-.94 2.06-2.06.94z\"/><path d=\"M17.41 7.96l-1.37-1.37c-.4-.4-.92-.59-1.43-.59-.52 0-1.04.2-1.43.59L10.3 9.45l-7.72 7.72c-.78.78-.78 2.05 0 2.83L4 21.41c.39.39.9.59 1.41.59.51 0 1.02-.2 1.41-.59l7.78-7.78 2.81-2.81c.8-.78.8-2.07 0-2.86zM5.41 20L4 18.59l7.72-7.72 1.47 1.35L5.41 20z\"/>\n",
              "  </svg>\n",
              "      </button>\n",
              "      \n",
              "  <style>\n",
              "    .colab-df-container {\n",
              "      display:flex;\n",
              "      flex-wrap:wrap;\n",
              "      gap: 12px;\n",
              "    }\n",
              "\n",
              "    .colab-df-convert {\n",
              "      background-color: #E8F0FE;\n",
              "      border: none;\n",
              "      border-radius: 50%;\n",
              "      cursor: pointer;\n",
              "      display: none;\n",
              "      fill: #1967D2;\n",
              "      height: 32px;\n",
              "      padding: 0 0 0 0;\n",
              "      width: 32px;\n",
              "    }\n",
              "\n",
              "    .colab-df-convert:hover {\n",
              "      background-color: #E2EBFA;\n",
              "      box-shadow: 0px 1px 2px rgba(60, 64, 67, 0.3), 0px 1px 3px 1px rgba(60, 64, 67, 0.15);\n",
              "      fill: #174EA6;\n",
              "    }\n",
              "\n",
              "    [theme=dark] .colab-df-convert {\n",
              "      background-color: #3B4455;\n",
              "      fill: #D2E3FC;\n",
              "    }\n",
              "\n",
              "    [theme=dark] .colab-df-convert:hover {\n",
              "      background-color: #434B5C;\n",
              "      box-shadow: 0px 1px 3px 1px rgba(0, 0, 0, 0.15);\n",
              "      filter: drop-shadow(0px 1px 2px rgba(0, 0, 0, 0.3));\n",
              "      fill: #FFFFFF;\n",
              "    }\n",
              "  </style>\n",
              "\n",
              "      <script>\n",
              "        const buttonEl =\n",
              "          document.querySelector('#df-8e811bad-d169-469c-a7fa-cd94a15cd56a button.colab-df-convert');\n",
              "        buttonEl.style.display =\n",
              "          google.colab.kernel.accessAllowed ? 'block' : 'none';\n",
              "\n",
              "        async function convertToInteractive(key) {\n",
              "          const element = document.querySelector('#df-8e811bad-d169-469c-a7fa-cd94a15cd56a');\n",
              "          const dataTable =\n",
              "            await google.colab.kernel.invokeFunction('convertToInteractive',\n",
              "                                                     [key], {});\n",
              "          if (!dataTable) return;\n",
              "\n",
              "          const docLinkHtml = 'Like what you see? Visit the ' +\n",
              "            '<a target=\"_blank\" href=https://colab.research.google.com/notebooks/data_table.ipynb>data table notebook</a>'\n",
              "            + ' to learn more about interactive tables.';\n",
              "          element.innerHTML = '';\n",
              "          dataTable['output_type'] = 'display_data';\n",
              "          await google.colab.output.renderOutput(dataTable, element);\n",
              "          const docLink = document.createElement('div');\n",
              "          docLink.innerHTML = docLinkHtml;\n",
              "          element.appendChild(docLink);\n",
              "        }\n",
              "      </script>\n",
              "    </div>\n",
              "  </div>\n",
              "  "
            ],
            "text/plain": [
              "              PassengerId               ...        Fare                     \n",
              "                     mean     sum amax  ...        mean        sum      amax\n",
              "Pclass Sex                              ...                                 \n",
              "1      female  469.212766   44106  888  ...  106.125798  9975.8250  512.3292\n",
              "       male    455.729508   55599  890  ...   67.226127  8201.5875  512.3292\n",
              "2      female  443.105263   33676  881  ...   21.970121  1669.7292   65.0000\n",
              "       male    447.962963   48380  887  ...   19.741782  2132.1125   73.5000\n",
              "3      female  399.729167   57561  889  ...   16.118810  2321.1086   69.5500\n",
              "       male    455.515850  158064  891  ...   12.661633  4393.5865   69.5500\n",
              "\n",
              "[6 rows x 18 columns]"
            ]
          },
          "metadata": {},
          "execution_count": 19
        }
      ]
    },
    {
      "cell_type": "markdown",
      "source": [
        "## 학습목표\n",
        "13. Transform 함수의 이해 및 활용하기"
      ],
      "metadata": {
        "id": "4IWEAZatixrL"
      }
    },
    {
      "cell_type": "markdown",
      "source": [
        "#### transform 함수\n",
        " - groupby 후 transform 함수를 사용하면 원래의 index를 유지한 상태로 통계함수를 적용\n",
        " - 전체 데이터의 집계가 아닌 각 그룹에서의 집계를 계산\n",
        " - 따라서 새로 생성된 데이터를 원본 dataframe과 합치기 쉬움"
      ],
      "metadata": {
        "id": "MgYEo-K0jA1G"
      }
    },
    {
      "cell_type": "code",
      "source": [
        ""
      ],
      "metadata": {
        "id": "0601Dz1mjshx"
      },
      "execution_count": null,
      "outputs": []
    },
    {
      "cell_type": "markdown",
      "source": [
        "## 학습목표\n",
        "14. pivot, pivot_table 함수의 이해"
      ],
      "metadata": {
        "id": "A2-87OIHkWdY"
      }
    },
    {
      "cell_type": "code",
      "source": [
        "df = pd.DataFrame({\n",
        "    '지역': ['서울', '서울', '서울', '경기', '경기', '부산', '서울', '서울', '부산', '경기', '경기', '경기'],\n",
        "    '요일': ['월요일', '화요일', '수요일', '월요일', '화요일', '월요일', '목요일', '금요일', '화요일', '수요일', '목요일', '금요일'],\n",
        "    '강수량': [100, 80, 1000, 200, 200, 100, 50, 100, 200, 100, 50, 100],\n",
        "    '강수확률': [80, 70, 90, 10, 20, 30, 50, 90, 20, 80, 50, 10]\n",
        "                  })\n",
        "\n",
        "df"
      ],
      "metadata": {
        "id": "ebVIDUXmoskD"
      },
      "execution_count": null,
      "outputs": []
    },
    {
      "cell_type": "markdown",
      "source": [
        "#### pivot \n",
        " - dataframe의 형태를 변경\n",
        " - 인덱스, 컬럼, 데이터로 사용할 컬럼을 명시\n",
        " - pivot_table이 더 많이 사용, + 더 편리한 기능 많아서 패스,,,"
      ],
      "metadata": {
        "id": "pEpi6JOQkYtg"
      }
    },
    {
      "cell_type": "markdown",
      "source": [
        "#### pivot_table\n",
        " - 기능적으로 pivot과 동일\n",
        " - pivot과의 차이점\n",
        "   - 중복되는 모호한 값이 있을 경우, aggregation 함수 사용하여 값을 채움\n",
        "   - margins=True, 매개변수를 통해 전체 행/열에 대한 평균도 구할 수 있음"
      ],
      "metadata": {
        "id": "A24VFIu1loI-"
      }
    },
    {
      "cell_type": "code",
      "source": [
        ""
      ],
      "metadata": {
        "id": "1_zM8g9ynQKT"
      },
      "execution_count": null,
      "outputs": []
    },
    {
      "cell_type": "markdown",
      "source": [
        "## 학습목표\n",
        "15. stack, unstack 함수 이해하기"
      ],
      "metadata": {
        "id": "zmaF8lUwnePe"
      }
    },
    {
      "cell_type": "markdown",
      "source": [
        "####  stack & unstack\n",
        " - stack : 컬럼 레벨에서 인덱스 레벨로 dataframe 변경\n",
        "  - 즉, 데이터를 쌓아올리는 개념으로 이해하면 쉬움\n",
        " - unstack : 인덱스 레벨에서 컬럼 레벨로 dataframe 변경\n",
        "  - stack의 반대 operation\n",
        " \n",
        " - 둘은 역의 관계에 있음"
      ],
      "metadata": {
        "id": "Emc8SiNPnnQB"
      }
    },
    {
      "cell_type": "markdown",
      "source": [
        "## 학습목표\n",
        "16. Concat 함수 사용하여 dataframe 병합하기"
      ],
      "metadata": {
        "id": "V2zmQ8qro5fi"
      }
    },
    {
      "cell_type": "markdown",
      "source": [
        "#### concat 함수 사용하여 dataframe 병합하기\n",
        " - pandas.concat 함수\n",
        " - 축을 따라 dataframe을 병합 가능\n",
        "   - 기본 axis = 0 -> 행단위 병합"
      ],
      "metadata": {
        "id": "fVhy99-4qYGK"
      }
    },
    {
      "cell_type": "markdown",
      "source": [
        "* column명이 같은 경우"
      ],
      "metadata": {
        "id": "u_iWoBxjq934"
      }
    },
    {
      "cell_type": "code",
      "source": [
        ""
      ],
      "metadata": {
        "id": "ePRWJhXHq_gh"
      },
      "execution_count": null,
      "outputs": []
    },
    {
      "cell_type": "markdown",
      "source": [
        "* column 명이 다른 경우 \n",
        "- 값이 없는 경우 NaN 으로 처리"
      ],
      "metadata": {
        "id": "YJWyIwbgq_1n"
      }
    },
    {
      "cell_type": "code",
      "source": [
        ""
      ],
      "metadata": {
        "id": "IbhynOt1rCJ3"
      },
      "execution_count": null,
      "outputs": []
    },
    {
      "cell_type": "markdown",
      "source": [
        "## 학습목표\n",
        "17. Merge_ Join 함수로 dataframe 병합하기"
      ],
      "metadata": {
        "id": "SFdW1wZnqTVP"
      }
    },
    {
      "cell_type": "markdown",
      "source": [
        "#### dataframe merge\n",
        " - SQL의 join처럼 특정한 column을 기준으로 병합\n",
        "   - join 방식: how 파라미터를 통해 명시\n",
        "     - inner: 기본값, 일치하는 값이 있는 경우 \n",
        "     - left: left outer join\n",
        "     - right: right outer join\n",
        "     - outer: full outer join\n",
        "     \n",
        " - pandas.merge 함수가 사용됨"
      ],
      "metadata": {
        "id": "uStDpJ2kqUvI"
      }
    },
    {
      "cell_type": "code",
      "source": [
        ""
      ],
      "metadata": {
        "id": "uZXtdJL-rsPz"
      },
      "execution_count": null,
      "outputs": []
    },
    {
      "cell_type": "markdown",
      "source": [
        "* on \n",
        " - join 대상이 되는 column 명시"
      ],
      "metadata": {
        "id": "zthdO9Isr-2l"
      }
    },
    {
      "cell_type": "code",
      "source": [
        ""
      ],
      "metadata": {
        "id": "MVhkX2qyr_W9"
      },
      "execution_count": null,
      "outputs": []
    },
    {
      "cell_type": "markdown",
      "source": [
        "* index 기준으로 join하기\n",
        "- index가 동일하다면 가능!"
      ],
      "metadata": {
        "id": "hWfvu7JTsEYY"
      }
    },
    {
      "cell_type": "code",
      "source": [
        ""
      ],
      "metadata": {
        "id": "WgXYA4c8sE3y"
      },
      "execution_count": null,
      "outputs": []
    },
    {
      "cell_type": "markdown",
      "source": [
        "#### join 함수\n",
        " - 내부적으로 pandas.merge 함수 사용\n",
        " - 기본적으로 index를 사용하여 left join"
      ],
      "metadata": {
        "id": "3oCTmQNRtxZ1"
      }
    },
    {
      "cell_type": "code",
      "source": [
        ""
      ],
      "metadata": {
        "id": "h2D8DCt6tx6x"
      },
      "execution_count": null,
      "outputs": []
    }
  ],
  "metadata": {
    "kernelspec": {
      "display_name": "Python 3",
      "language": "python",
      "name": "python3"
    },
    "language_info": {
      "codemirror_mode": {
        "name": "ipython",
        "version": 3
      },
      "file_extension": ".py",
      "mimetype": "text/x-python",
      "name": "python",
      "nbconvert_exporter": "python",
      "pygments_lexer": "ipython3",
      "version": "3.7.3"
    },
    "colab": {
      "name": "Pandas 알아가기",
      "provenance": [],
      "collapsed_sections": [
        "RlOdYUGbQaWu",
        "YsN4xX1AljBM",
        "F0OeSXQdEfe0",
        "aQNAt01ZEgwK",
        "9fO8KsT4FGnK",
        "qFAa2ba6HQBA",
        "2nJRgUIdQdkN",
        "6cwCplztSmjM",
        "toYCSmRJTfAp",
        "zZ3DsN8rTuVR",
        "sH6KxQpItlCS",
        "AAxa76ckTn_f",
        "GEJZ8PURVFvQ",
        "XFoBI34BVipP",
        "lYbVYzFmVj6g",
        "yYaE1QFhae1n",
        "mx3F3HaHeL4d",
        "4IWEAZatixrL",
        "A2-87OIHkWdY",
        "zmaF8lUwnePe",
        "V2zmQ8qro5fi"
      ]
    }
  },
  "nbformat": 4,
  "nbformat_minor": 0
}